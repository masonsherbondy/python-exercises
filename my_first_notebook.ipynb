{
 "cells": [
  {
   "cell_type": "code",
   "execution_count": 1,
   "id": "0fddc831",
   "metadata": {},
   "outputs": [
    {
     "data": {
      "text/plain": [
       "11"
      ]
     },
     "execution_count": 1,
     "metadata": {},
     "output_type": "execute_result"
    }
   ],
   "source": [
    "5 +6"
   ]
  },
  {
   "cell_type": "code",
   "execution_count": 2,
   "id": "e90ee347",
   "metadata": {},
   "outputs": [],
   "source": [
    "books = [\n",
    "    {\n",
    "        \"title\": \"Genetic Algorithms and Machine Learning for Programmers\",\n",
    "        \"price\": 36.99,\n",
    "        \"author\": \"Frances Buontempo\"\n",
    "    },\n",
    "    {\n",
    "        \"title\": \"The Visual Display of Quantitative Information\",\n",
    "        \"price\": 38.00,\n",
    "        \"author\": \"Edward Tufte\"\n",
    "    },\n",
    "    {\n",
    "        \"title\": \"Practical Object-Oriented Design\",\n",
    "        \"author\": \"Sandi Metz\",\n",
    "        \"price\": 30.47\n",
    "    },\n",
    "    {\n",
    "        \"title\": \"Weapons of Math Destruction\",\n",
    "        \"author\": \"Cathy O'Neil\",\n",
    "        \"price\": 17.44\n",
    "    }\n",
    "]"
   ]
  },
  {
   "cell_type": "code",
   "execution_count": 3,
   "id": "7e377130",
   "metadata": {},
   "outputs": [],
   "source": [
    "def total_book_prices(L):\n",
    "    count = 0\n",
    "    for x in L:\n",
    "        count += (x[\"price\"])\n",
    "    return count"
   ]
  },
  {
   "cell_type": "code",
   "execution_count": 5,
   "id": "92d72e01",
   "metadata": {},
   "outputs": [
    {
     "name": "stdout",
     "output_type": "stream",
     "text": [
      "122.9\n"
     ]
    }
   ],
   "source": [
    "print(total_book_prices(books))"
   ]
  },
  {
   "cell_type": "code",
   "execution_count": null,
   "id": "ae604c13",
   "metadata": {},
   "outputs": [],
   "source": [
    "# shift + enter runs current cell\n",
    "# enter shifts cursor one line down\n",
    "# ctrl + enter runs selected cell\n",
    "# ctrl + s saves checkpoint"
   ]
  }
 ],
 "metadata": {
  "kernelspec": {
   "display_name": "Python 3",
   "language": "python",
   "name": "python3"
  },
  "language_info": {
   "codemirror_mode": {
    "name": "ipython",
    "version": 3
   },
   "file_extension": ".py",
   "mimetype": "text/x-python",
   "name": "python",
   "nbconvert_exporter": "python",
   "pygments_lexer": "ipython3",
   "version": "3.8.8"
  }
 },
 "nbformat": 4,
 "nbformat_minor": 5
}
